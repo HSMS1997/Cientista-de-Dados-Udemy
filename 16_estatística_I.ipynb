{
 "cells": [
  {
   "cell_type": "code",
   "execution_count": 52,
   "id": "53764593-d12d-4bb8-985c-01fd4b760e6c",
   "metadata": {},
   "outputs": [],
   "source": [
    "import pandas as pd\n",
    "import numpy as np\n",
    "from math import ceil\n",
    "from sklearn.model_selection import train_test_split\n",
    "from scipy import stats\n",
    "from scipy.stats import norm, skewnorm\n",
    "import matplotlib.pyplot as plt"
   ]
  },
  {
   "cell_type": "code",
   "execution_count": 5,
   "id": "ca8c50ab-cc94-45df-bc75-3a6003393a79",
   "metadata": {},
   "outputs": [
    {
     "data": {
      "text/html": [
       "<div>\n",
       "<style scoped>\n",
       "    .dataframe tbody tr th:only-of-type {\n",
       "        vertical-align: middle;\n",
       "    }\n",
       "\n",
       "    .dataframe tbody tr th {\n",
       "        vertical-align: top;\n",
       "    }\n",
       "\n",
       "    .dataframe thead th {\n",
       "        text-align: right;\n",
       "    }\n",
       "</style>\n",
       "<table border=\"1\" class=\"dataframe\">\n",
       "  <thead>\n",
       "    <tr style=\"text-align: right;\">\n",
       "      <th></th>\n",
       "      <th>sepal length</th>\n",
       "      <th>sepal width</th>\n",
       "      <th>petal length</th>\n",
       "      <th>petal width</th>\n",
       "      <th>class</th>\n",
       "    </tr>\n",
       "  </thead>\n",
       "  <tbody>\n",
       "    <tr>\n",
       "      <th>0</th>\n",
       "      <td>5.1</td>\n",
       "      <td>3.5</td>\n",
       "      <td>1.4</td>\n",
       "      <td>0.2</td>\n",
       "      <td>Iris-setosa</td>\n",
       "    </tr>\n",
       "    <tr>\n",
       "      <th>1</th>\n",
       "      <td>4.9</td>\n",
       "      <td>3.0</td>\n",
       "      <td>1.4</td>\n",
       "      <td>0.2</td>\n",
       "      <td>Iris-setosa</td>\n",
       "    </tr>\n",
       "    <tr>\n",
       "      <th>2</th>\n",
       "      <td>4.7</td>\n",
       "      <td>3.2</td>\n",
       "      <td>1.3</td>\n",
       "      <td>0.2</td>\n",
       "      <td>Iris-setosa</td>\n",
       "    </tr>\n",
       "    <tr>\n",
       "      <th>3</th>\n",
       "      <td>4.6</td>\n",
       "      <td>3.1</td>\n",
       "      <td>1.5</td>\n",
       "      <td>0.2</td>\n",
       "      <td>Iris-setosa</td>\n",
       "    </tr>\n",
       "    <tr>\n",
       "      <th>4</th>\n",
       "      <td>5.0</td>\n",
       "      <td>3.6</td>\n",
       "      <td>1.4</td>\n",
       "      <td>0.2</td>\n",
       "      <td>Iris-setosa</td>\n",
       "    </tr>\n",
       "    <tr>\n",
       "      <th>...</th>\n",
       "      <td>...</td>\n",
       "      <td>...</td>\n",
       "      <td>...</td>\n",
       "      <td>...</td>\n",
       "      <td>...</td>\n",
       "    </tr>\n",
       "    <tr>\n",
       "      <th>145</th>\n",
       "      <td>6.7</td>\n",
       "      <td>3.0</td>\n",
       "      <td>5.2</td>\n",
       "      <td>2.3</td>\n",
       "      <td>Iris-virginica</td>\n",
       "    </tr>\n",
       "    <tr>\n",
       "      <th>146</th>\n",
       "      <td>6.3</td>\n",
       "      <td>2.5</td>\n",
       "      <td>5.0</td>\n",
       "      <td>1.9</td>\n",
       "      <td>Iris-virginica</td>\n",
       "    </tr>\n",
       "    <tr>\n",
       "      <th>147</th>\n",
       "      <td>6.5</td>\n",
       "      <td>3.0</td>\n",
       "      <td>5.2</td>\n",
       "      <td>2.0</td>\n",
       "      <td>Iris-virginica</td>\n",
       "    </tr>\n",
       "    <tr>\n",
       "      <th>148</th>\n",
       "      <td>6.2</td>\n",
       "      <td>3.4</td>\n",
       "      <td>5.4</td>\n",
       "      <td>2.3</td>\n",
       "      <td>Iris-virginica</td>\n",
       "    </tr>\n",
       "    <tr>\n",
       "      <th>149</th>\n",
       "      <td>5.9</td>\n",
       "      <td>3.0</td>\n",
       "      <td>5.1</td>\n",
       "      <td>1.8</td>\n",
       "      <td>Iris-virginica</td>\n",
       "    </tr>\n",
       "  </tbody>\n",
       "</table>\n",
       "<p>150 rows × 5 columns</p>\n",
       "</div>"
      ],
      "text/plain": [
       "     sepal length  sepal width  petal length  petal width           class\n",
       "0             5.1          3.5           1.4          0.2     Iris-setosa\n",
       "1             4.9          3.0           1.4          0.2     Iris-setosa\n",
       "2             4.7          3.2           1.3          0.2     Iris-setosa\n",
       "3             4.6          3.1           1.5          0.2     Iris-setosa\n",
       "4             5.0          3.6           1.4          0.2     Iris-setosa\n",
       "..            ...          ...           ...          ...             ...\n",
       "145           6.7          3.0           5.2          2.3  Iris-virginica\n",
       "146           6.3          2.5           5.0          1.9  Iris-virginica\n",
       "147           6.5          3.0           5.2          2.0  Iris-virginica\n",
       "148           6.2          3.4           5.4          2.3  Iris-virginica\n",
       "149           5.9          3.0           5.1          1.8  Iris-virginica\n",
       "\n",
       "[150 rows x 5 columns]"
      ]
     },
     "execution_count": 5,
     "metadata": {},
     "output_type": "execute_result"
    }
   ],
   "source": [
    "base = pd.read_csv('iris.csv')\n",
    "base"
   ]
  },
  {
   "cell_type": "code",
   "execution_count": 6,
   "id": "d1535356-bd4f-40ce-8cd7-482db49bc1ae",
   "metadata": {},
   "outputs": [
    {
     "data": {
      "text/plain": [
       "(150, 5)"
      ]
     },
     "execution_count": 6,
     "metadata": {},
     "output_type": "execute_result"
    }
   ],
   "source": [
    "base.shape"
   ]
  },
  {
   "cell_type": "code",
   "execution_count": 10,
   "id": "6b5caae6-3555-447e-ba48-f073541f3fef",
   "metadata": {},
   "outputs": [
    {
     "data": {
      "text/plain": [
       "array([0, 0, 0, 0, 1, 0, 0, 0, 1, 0, 0, 1, 0, 1, 0, 0, 1, 0, 1, 1, 1, 0,\n",
       "       0, 1, 1, 1, 0, 1, 0, 0, 1, 0, 0, 1, 1, 0, 1, 0, 0, 0, 1, 0, 1, 0,\n",
       "       0, 0, 0, 0, 0, 0, 1, 1, 0, 0, 0, 0, 0, 0, 0, 0, 0, 1, 0, 0, 1, 0,\n",
       "       0, 1, 0, 0, 1, 0, 0, 0, 0, 1, 0, 1, 0, 0, 1, 1, 0, 0, 0, 0, 0, 0,\n",
       "       0, 0, 0, 0, 1, 0, 1, 1, 1, 1, 1, 1, 0, 0, 0, 0, 0, 0, 0, 0, 1, 0,\n",
       "       0, 0, 0, 0, 0, 0, 0, 0, 1, 0, 0, 0, 0, 0, 1, 1, 1, 0, 1, 0, 1, 1,\n",
       "       1, 0, 0, 0, 0, 0, 0, 0, 0, 1, 1, 0, 0, 1, 1, 0, 0, 1])"
      ]
     },
     "execution_count": 10,
     "metadata": {},
     "output_type": "execute_result"
    }
   ],
   "source": [
    "np.random.seed(2345)\n",
    "amostra = np.random.choice(a = [0,1], size = 150, replace = True, p = [0.7, 0.3])\n",
    "len(amostra)\n",
    "len(amostra[amostra == 1])\n",
    "len(amostra[amostra == 0])\n",
    "amostra"
   ]
  },
  {
   "cell_type": "code",
   "execution_count": 9,
   "id": "d9d2a3d9-6b86-4ebf-9b9f-cf8b0cb51c9d",
   "metadata": {},
   "outputs": [
    {
     "data": {
      "text/plain": [
       "(101, 5)"
      ]
     },
     "execution_count": 9,
     "metadata": {},
     "output_type": "execute_result"
    }
   ],
   "source": [
    "base_final = base.loc[amostra == 0]\n",
    "base_final.shape"
   ]
  },
  {
   "cell_type": "code",
   "execution_count": 11,
   "id": "958abcdd-7763-404f-a17e-40769fb3fd68",
   "metadata": {},
   "outputs": [
    {
     "data": {
      "text/plain": [
       "(49, 5)"
      ]
     },
     "execution_count": 11,
     "metadata": {},
     "output_type": "execute_result"
    }
   ],
   "source": [
    "base_final2 = base.loc[amostra == 1]\n",
    "base_final2.shape"
   ]
  },
  {
   "cell_type": "code",
   "execution_count": 16,
   "id": "c39c97ef-37fb-4ccb-88d8-b0b9a9a00524",
   "metadata": {},
   "outputs": [
    {
     "name": "stdout",
     "output_type": "stream",
     "text": [
      "10\n"
     ]
    }
   ],
   "source": [
    "populacao = 150\n",
    "amostra = 15\n",
    "k = ceil(populacao / amostra)\n",
    "print(k)"
   ]
  },
  {
   "cell_type": "code",
   "execution_count": 22,
   "id": "88d090ed-9125-4fb7-a30f-046eb2c35bcb",
   "metadata": {},
   "outputs": [
    {
     "name": "stdout",
     "output_type": "stream",
     "text": [
      "[2]\n"
     ]
    }
   ],
   "source": [
    "r = np.random.randint(low = 1, high = k + 1, size = 1)\n",
    "print(r)"
   ]
  },
  {
   "cell_type": "code",
   "execution_count": 23,
   "id": "73aab7c1-914d-438e-a43d-d6cbff99c27d",
   "metadata": {},
   "outputs": [
    {
     "name": "stdout",
     "output_type": "stream",
     "text": [
      "[2, 12, 22, 32, 42, 52, 62, 72, 82, 92, 102, 112, 122, 132, 142]\n"
     ]
    }
   ],
   "source": [
    "acumulador = r[0]\n",
    "sorteados = []\n",
    "for i in range(amostra):\n",
    "    sorteados.append(acumulador)\n",
    "    acumulador += k\n",
    "print(sorteados)"
   ]
  },
  {
   "cell_type": "code",
   "execution_count": 19,
   "id": "4a6f443e-e01a-4a2a-bd19-1ca9b860b2a2",
   "metadata": {},
   "outputs": [
    {
     "data": {
      "text/plain": [
       "15"
      ]
     },
     "execution_count": 19,
     "metadata": {},
     "output_type": "execute_result"
    }
   ],
   "source": [
    "len(sorteados)"
   ]
  },
  {
   "cell_type": "code",
   "execution_count": 24,
   "id": "b76fd058-29d9-48ba-b2fa-e1cec837c4bc",
   "metadata": {},
   "outputs": [
    {
     "data": {
      "text/html": [
       "<div>\n",
       "<style scoped>\n",
       "    .dataframe tbody tr th:only-of-type {\n",
       "        vertical-align: middle;\n",
       "    }\n",
       "\n",
       "    .dataframe tbody tr th {\n",
       "        vertical-align: top;\n",
       "    }\n",
       "\n",
       "    .dataframe thead th {\n",
       "        text-align: right;\n",
       "    }\n",
       "</style>\n",
       "<table border=\"1\" class=\"dataframe\">\n",
       "  <thead>\n",
       "    <tr style=\"text-align: right;\">\n",
       "      <th></th>\n",
       "      <th>sepal length</th>\n",
       "      <th>sepal width</th>\n",
       "      <th>petal length</th>\n",
       "      <th>petal width</th>\n",
       "      <th>class</th>\n",
       "    </tr>\n",
       "  </thead>\n",
       "  <tbody>\n",
       "    <tr>\n",
       "      <th>2</th>\n",
       "      <td>4.7</td>\n",
       "      <td>3.2</td>\n",
       "      <td>1.3</td>\n",
       "      <td>0.2</td>\n",
       "      <td>Iris-setosa</td>\n",
       "    </tr>\n",
       "    <tr>\n",
       "      <th>12</th>\n",
       "      <td>4.8</td>\n",
       "      <td>3.0</td>\n",
       "      <td>1.4</td>\n",
       "      <td>0.1</td>\n",
       "      <td>Iris-setosa</td>\n",
       "    </tr>\n",
       "    <tr>\n",
       "      <th>22</th>\n",
       "      <td>4.6</td>\n",
       "      <td>3.6</td>\n",
       "      <td>1.0</td>\n",
       "      <td>0.2</td>\n",
       "      <td>Iris-setosa</td>\n",
       "    </tr>\n",
       "    <tr>\n",
       "      <th>32</th>\n",
       "      <td>5.2</td>\n",
       "      <td>4.1</td>\n",
       "      <td>1.5</td>\n",
       "      <td>0.1</td>\n",
       "      <td>Iris-setosa</td>\n",
       "    </tr>\n",
       "    <tr>\n",
       "      <th>42</th>\n",
       "      <td>4.4</td>\n",
       "      <td>3.2</td>\n",
       "      <td>1.3</td>\n",
       "      <td>0.2</td>\n",
       "      <td>Iris-setosa</td>\n",
       "    </tr>\n",
       "    <tr>\n",
       "      <th>52</th>\n",
       "      <td>6.9</td>\n",
       "      <td>3.1</td>\n",
       "      <td>4.9</td>\n",
       "      <td>1.5</td>\n",
       "      <td>Iris-versicolor</td>\n",
       "    </tr>\n",
       "    <tr>\n",
       "      <th>62</th>\n",
       "      <td>6.0</td>\n",
       "      <td>2.2</td>\n",
       "      <td>4.0</td>\n",
       "      <td>1.0</td>\n",
       "      <td>Iris-versicolor</td>\n",
       "    </tr>\n",
       "    <tr>\n",
       "      <th>72</th>\n",
       "      <td>6.3</td>\n",
       "      <td>2.5</td>\n",
       "      <td>4.9</td>\n",
       "      <td>1.5</td>\n",
       "      <td>Iris-versicolor</td>\n",
       "    </tr>\n",
       "    <tr>\n",
       "      <th>82</th>\n",
       "      <td>5.8</td>\n",
       "      <td>2.7</td>\n",
       "      <td>3.9</td>\n",
       "      <td>1.2</td>\n",
       "      <td>Iris-versicolor</td>\n",
       "    </tr>\n",
       "    <tr>\n",
       "      <th>92</th>\n",
       "      <td>5.8</td>\n",
       "      <td>2.6</td>\n",
       "      <td>4.0</td>\n",
       "      <td>1.2</td>\n",
       "      <td>Iris-versicolor</td>\n",
       "    </tr>\n",
       "    <tr>\n",
       "      <th>102</th>\n",
       "      <td>7.1</td>\n",
       "      <td>3.0</td>\n",
       "      <td>5.9</td>\n",
       "      <td>2.1</td>\n",
       "      <td>Iris-virginica</td>\n",
       "    </tr>\n",
       "    <tr>\n",
       "      <th>112</th>\n",
       "      <td>6.8</td>\n",
       "      <td>3.0</td>\n",
       "      <td>5.5</td>\n",
       "      <td>2.1</td>\n",
       "      <td>Iris-virginica</td>\n",
       "    </tr>\n",
       "    <tr>\n",
       "      <th>122</th>\n",
       "      <td>7.7</td>\n",
       "      <td>2.8</td>\n",
       "      <td>6.7</td>\n",
       "      <td>2.0</td>\n",
       "      <td>Iris-virginica</td>\n",
       "    </tr>\n",
       "    <tr>\n",
       "      <th>132</th>\n",
       "      <td>6.4</td>\n",
       "      <td>2.8</td>\n",
       "      <td>5.6</td>\n",
       "      <td>2.2</td>\n",
       "      <td>Iris-virginica</td>\n",
       "    </tr>\n",
       "    <tr>\n",
       "      <th>142</th>\n",
       "      <td>5.8</td>\n",
       "      <td>2.7</td>\n",
       "      <td>5.1</td>\n",
       "      <td>1.9</td>\n",
       "      <td>Iris-virginica</td>\n",
       "    </tr>\n",
       "  </tbody>\n",
       "</table>\n",
       "</div>"
      ],
      "text/plain": [
       "     sepal length  sepal width  petal length  petal width            class\n",
       "2             4.7          3.2           1.3          0.2      Iris-setosa\n",
       "12            4.8          3.0           1.4          0.1      Iris-setosa\n",
       "22            4.6          3.6           1.0          0.2      Iris-setosa\n",
       "32            5.2          4.1           1.5          0.1      Iris-setosa\n",
       "42            4.4          3.2           1.3          0.2      Iris-setosa\n",
       "52            6.9          3.1           4.9          1.5  Iris-versicolor\n",
       "62            6.0          2.2           4.0          1.0  Iris-versicolor\n",
       "72            6.3          2.5           4.9          1.5  Iris-versicolor\n",
       "82            5.8          2.7           3.9          1.2  Iris-versicolor\n",
       "92            5.8          2.6           4.0          1.2  Iris-versicolor\n",
       "102           7.1          3.0           5.9          2.1   Iris-virginica\n",
       "112           6.8          3.0           5.5          2.1   Iris-virginica\n",
       "122           7.7          2.8           6.7          2.0   Iris-virginica\n",
       "132           6.4          2.8           5.6          2.2   Iris-virginica\n",
       "142           5.8          2.7           5.1          1.9   Iris-virginica"
      ]
     },
     "execution_count": 24,
     "metadata": {},
     "output_type": "execute_result"
    }
   ],
   "source": [
    "base = pd.read_csv('iris.csv')\n",
    "base_final = base.loc[sorteados]\n",
    "base_final"
   ]
  },
  {
   "cell_type": "code",
   "execution_count": 26,
   "id": "4ad2ec3e-130a-4ea7-84f4-7d7842cb713e",
   "metadata": {},
   "outputs": [
    {
     "data": {
      "text/plain": [
       "Iris-setosa        50\n",
       "Iris-versicolor    50\n",
       "Iris-virginica     50\n",
       "Name: class, dtype: int64"
      ]
     },
     "execution_count": 26,
     "metadata": {},
     "output_type": "execute_result"
    }
   ],
   "source": [
    "iris = pd.read_csv('iris.csv')\n",
    "iris['class'].value_counts()"
   ]
  },
  {
   "cell_type": "code",
   "execution_count": 27,
   "id": "0c7451f1-d8f4-4d9c-9689-b7d8a6a26371",
   "metadata": {},
   "outputs": [
    {
     "data": {
      "text/plain": [
       "Iris-setosa        25\n",
       "Iris-versicolor    25\n",
       "Iris-virginica     25\n",
       "Name: class, dtype: int64"
      ]
     },
     "execution_count": 27,
     "metadata": {},
     "output_type": "execute_result"
    }
   ],
   "source": [
    "x, _, y, _ = train_test_split(iris.iloc[:, 0:4], iris.iloc[:, 4], test_size = 0.5, stratify = iris.iloc[:, 4])\n",
    "y.value_counts()"
   ]
  },
  {
   "cell_type": "code",
   "execution_count": 28,
   "id": "5a7a5824-6c03-4677-9c09-cfa0074cd56c",
   "metadata": {},
   "outputs": [
    {
     "data": {
      "text/html": [
       "<div>\n",
       "<style scoped>\n",
       "    .dataframe tbody tr th:only-of-type {\n",
       "        vertical-align: middle;\n",
       "    }\n",
       "\n",
       "    .dataframe tbody tr th {\n",
       "        vertical-align: top;\n",
       "    }\n",
       "\n",
       "    .dataframe thead th {\n",
       "        text-align: right;\n",
       "    }\n",
       "</style>\n",
       "<table border=\"1\" class=\"dataframe\">\n",
       "  <thead>\n",
       "    <tr style=\"text-align: right;\">\n",
       "      <th></th>\n",
       "      <th>Unnamed: 0</th>\n",
       "      <th>education</th>\n",
       "      <th>age</th>\n",
       "      <th>parity</th>\n",
       "      <th>induced</th>\n",
       "      <th>case</th>\n",
       "      <th>spontaneous</th>\n",
       "      <th>stratum</th>\n",
       "      <th>pooled.stratum</th>\n",
       "    </tr>\n",
       "  </thead>\n",
       "  <tbody>\n",
       "    <tr>\n",
       "      <th>0</th>\n",
       "      <td>1</td>\n",
       "      <td>0-5yrs</td>\n",
       "      <td>26</td>\n",
       "      <td>6</td>\n",
       "      <td>1</td>\n",
       "      <td>1</td>\n",
       "      <td>2</td>\n",
       "      <td>1</td>\n",
       "      <td>3</td>\n",
       "    </tr>\n",
       "    <tr>\n",
       "      <th>1</th>\n",
       "      <td>2</td>\n",
       "      <td>0-5yrs</td>\n",
       "      <td>42</td>\n",
       "      <td>1</td>\n",
       "      <td>1</td>\n",
       "      <td>1</td>\n",
       "      <td>0</td>\n",
       "      <td>2</td>\n",
       "      <td>1</td>\n",
       "    </tr>\n",
       "    <tr>\n",
       "      <th>2</th>\n",
       "      <td>3</td>\n",
       "      <td>0-5yrs</td>\n",
       "      <td>39</td>\n",
       "      <td>6</td>\n",
       "      <td>2</td>\n",
       "      <td>1</td>\n",
       "      <td>0</td>\n",
       "      <td>3</td>\n",
       "      <td>4</td>\n",
       "    </tr>\n",
       "    <tr>\n",
       "      <th>3</th>\n",
       "      <td>4</td>\n",
       "      <td>0-5yrs</td>\n",
       "      <td>34</td>\n",
       "      <td>4</td>\n",
       "      <td>2</td>\n",
       "      <td>1</td>\n",
       "      <td>0</td>\n",
       "      <td>4</td>\n",
       "      <td>2</td>\n",
       "    </tr>\n",
       "    <tr>\n",
       "      <th>4</th>\n",
       "      <td>5</td>\n",
       "      <td>6-11yrs</td>\n",
       "      <td>35</td>\n",
       "      <td>3</td>\n",
       "      <td>1</td>\n",
       "      <td>1</td>\n",
       "      <td>1</td>\n",
       "      <td>5</td>\n",
       "      <td>32</td>\n",
       "    </tr>\n",
       "    <tr>\n",
       "      <th>...</th>\n",
       "      <td>...</td>\n",
       "      <td>...</td>\n",
       "      <td>...</td>\n",
       "      <td>...</td>\n",
       "      <td>...</td>\n",
       "      <td>...</td>\n",
       "      <td>...</td>\n",
       "      <td>...</td>\n",
       "      <td>...</td>\n",
       "    </tr>\n",
       "    <tr>\n",
       "      <th>243</th>\n",
       "      <td>244</td>\n",
       "      <td>12+ yrs</td>\n",
       "      <td>31</td>\n",
       "      <td>1</td>\n",
       "      <td>0</td>\n",
       "      <td>0</td>\n",
       "      <td>1</td>\n",
       "      <td>79</td>\n",
       "      <td>45</td>\n",
       "    </tr>\n",
       "    <tr>\n",
       "      <th>244</th>\n",
       "      <td>245</td>\n",
       "      <td>12+ yrs</td>\n",
       "      <td>34</td>\n",
       "      <td>1</td>\n",
       "      <td>0</td>\n",
       "      <td>0</td>\n",
       "      <td>0</td>\n",
       "      <td>80</td>\n",
       "      <td>47</td>\n",
       "    </tr>\n",
       "    <tr>\n",
       "      <th>245</th>\n",
       "      <td>246</td>\n",
       "      <td>12+ yrs</td>\n",
       "      <td>35</td>\n",
       "      <td>2</td>\n",
       "      <td>2</td>\n",
       "      <td>0</td>\n",
       "      <td>0</td>\n",
       "      <td>81</td>\n",
       "      <td>54</td>\n",
       "    </tr>\n",
       "    <tr>\n",
       "      <th>246</th>\n",
       "      <td>247</td>\n",
       "      <td>12+ yrs</td>\n",
       "      <td>29</td>\n",
       "      <td>1</td>\n",
       "      <td>0</td>\n",
       "      <td>0</td>\n",
       "      <td>1</td>\n",
       "      <td>82</td>\n",
       "      <td>43</td>\n",
       "    </tr>\n",
       "    <tr>\n",
       "      <th>247</th>\n",
       "      <td>248</td>\n",
       "      <td>12+ yrs</td>\n",
       "      <td>23</td>\n",
       "      <td>1</td>\n",
       "      <td>0</td>\n",
       "      <td>0</td>\n",
       "      <td>1</td>\n",
       "      <td>83</td>\n",
       "      <td>40</td>\n",
       "    </tr>\n",
       "  </tbody>\n",
       "</table>\n",
       "<p>248 rows × 9 columns</p>\n",
       "</div>"
      ],
      "text/plain": [
       "     Unnamed: 0 education  age  parity  induced  case  spontaneous  stratum  \\\n",
       "0             1    0-5yrs   26       6        1     1            2        1   \n",
       "1             2    0-5yrs   42       1        1     1            0        2   \n",
       "2             3    0-5yrs   39       6        2     1            0        3   \n",
       "3             4    0-5yrs   34       4        2     1            0        4   \n",
       "4             5   6-11yrs   35       3        1     1            1        5   \n",
       "..          ...       ...  ...     ...      ...   ...          ...      ...   \n",
       "243         244   12+ yrs   31       1        0     0            1       79   \n",
       "244         245   12+ yrs   34       1        0     0            0       80   \n",
       "245         246   12+ yrs   35       2        2     0            0       81   \n",
       "246         247   12+ yrs   29       1        0     0            1       82   \n",
       "247         248   12+ yrs   23       1        0     0            1       83   \n",
       "\n",
       "     pooled.stratum  \n",
       "0                 3  \n",
       "1                 1  \n",
       "2                 4  \n",
       "3                 2  \n",
       "4                32  \n",
       "..              ...  \n",
       "243              45  \n",
       "244              47  \n",
       "245              54  \n",
       "246              43  \n",
       "247              40  \n",
       "\n",
       "[248 rows x 9 columns]"
      ]
     },
     "execution_count": 28,
     "metadata": {},
     "output_type": "execute_result"
    }
   ],
   "source": [
    "infert = pd.read_csv('infert.csv')\n",
    "infert"
   ]
  },
  {
   "cell_type": "code",
   "execution_count": 29,
   "id": "1496e4c5-0ce3-4b17-bbad-76b05a9a4274",
   "metadata": {},
   "outputs": [
    {
     "data": {
      "text/plain": [
       "6-11yrs    120\n",
       "12+ yrs    116\n",
       "0-5yrs      12\n",
       "Name: education, dtype: int64"
      ]
     },
     "execution_count": 29,
     "metadata": {},
     "output_type": "execute_result"
    }
   ],
   "source": [
    "infert['education'].value_counts()"
   ]
  },
  {
   "cell_type": "code",
   "execution_count": 34,
   "id": "daf0a963-df34-44c6-bd5a-a4af9d8cda7e",
   "metadata": {},
   "outputs": [
    {
     "data": {
      "text/plain": [
       "6-11yrs    48\n",
       "12+ yrs    46\n",
       "0-5yrs      5\n",
       "Name: education, dtype: int64"
      ]
     },
     "execution_count": 34,
     "metadata": {},
     "output_type": "execute_result"
    }
   ],
   "source": [
    "x1, _, y1,_ = train_test_split(infert.iloc[:, 2:9], infert.iloc[:, 1],\n",
    "                               test_size = 0.6, stratify = infert.iloc[:, 1])\n",
    "y1.value_counts()"
   ]
  },
  {
   "cell_type": "code",
   "execution_count": 36,
   "id": "55a665e0-0431-4e61-ad32-98c3bc12559d",
   "metadata": {},
   "outputs": [
    {
     "data": {
      "text/plain": [
       "181111.11111111112"
      ]
     },
     "execution_count": 36,
     "metadata": {},
     "output_type": "execute_result"
    }
   ],
   "source": [
    "jogadores = [40000, 18000, 12000, 250000, 30000, 140000, 300000, 40000, 800000]\n",
    "np.mean(jogadores)"
   ]
  },
  {
   "cell_type": "code",
   "execution_count": 37,
   "id": "a00c4ae5-615b-413b-add1-34192a0a7a89",
   "metadata": {},
   "outputs": [
    {
     "data": {
      "text/plain": [
       "40000.0"
      ]
     },
     "execution_count": 37,
     "metadata": {},
     "output_type": "execute_result"
    }
   ],
   "source": [
    "np.median(jogadores)"
   ]
  },
  {
   "cell_type": "code",
   "execution_count": 38,
   "id": "cb1c3cc7-2a3f-454f-bc0d-62aadbda538c",
   "metadata": {},
   "outputs": [
    {
     "data": {
      "text/plain": [
       "array([ 12000.,  30000.,  40000., 250000., 800000.])"
      ]
     },
     "execution_count": 38,
     "metadata": {},
     "output_type": "execute_result"
    }
   ],
   "source": [
    "quartis = np.quantile(jogadores, [0, 0.25, 0.5, 0.75,1])\n",
    "quartis"
   ]
  },
  {
   "cell_type": "code",
   "execution_count": 39,
   "id": "59b2eb3d-6cbd-4d4d-9bd6-54053ec1d370",
   "metadata": {},
   "outputs": [
    {
     "data": {
      "text/plain": [
       "255307.87514511007"
      ]
     },
     "execution_count": 39,
     "metadata": {},
     "output_type": "execute_result"
    }
   ],
   "source": [
    "np.std(jogadores, ddof = 1)"
   ]
  },
  {
   "cell_type": "code",
   "execution_count": 40,
   "id": "e6e1c6d6-fd9a-462d-bf02-3d701f7992c6",
   "metadata": {},
   "outputs": [
    {
     "data": {
      "text/plain": [
       "DescribeResult(nobs=9, minmax=(12000, 800000), mean=181111.11111111112, variance=65182111111.11111, skewness=1.758635899846188, kurtosis=1.9572075427527729)"
      ]
     },
     "execution_count": 40,
     "metadata": {},
     "output_type": "execute_result"
    }
   ],
   "source": [
    "stats.describe(jogadores)"
   ]
  },
  {
   "cell_type": "code",
   "execution_count": 42,
   "id": "744c1323-2255-43e4-8bec-8fd7e5e4daf5",
   "metadata": {},
   "outputs": [
    {
     "data": {
      "text/plain": [
       "0.15865525393145707"
      ]
     },
     "execution_count": 42,
     "metadata": {},
     "output_type": "execute_result"
    }
   ],
   "source": [
    "norm.cdf(6, 8, 2)"
   ]
  },
  {
   "cell_type": "code",
   "execution_count": 48,
   "id": "614bca4c-fe5f-4841-9cd7-5fc3979d5cde",
   "metadata": {},
   "outputs": [
    {
     "data": {
      "text/plain": [
       "0.8413447460685429"
      ]
     },
     "execution_count": 48,
     "metadata": {},
     "output_type": "execute_result"
    }
   ],
   "source": [
    "norm.sf(6, 8, 2)"
   ]
  },
  {
   "cell_type": "code",
   "execution_count": 49,
   "id": "37739809-791e-4cd7-aa4b-514bb178b63e",
   "metadata": {},
   "outputs": [
    {
     "data": {
      "text/plain": [
       "0.31731050786291415"
      ]
     },
     "execution_count": 49,
     "metadata": {},
     "output_type": "execute_result"
    }
   ],
   "source": [
    "norm.cdf(6, 8, 2) + norm.sf(10, 8, 2)"
   ]
  },
  {
   "cell_type": "code",
   "execution_count": 50,
   "id": "0c7ef69f-0899-4be8-8056-f325294e32f1",
   "metadata": {},
   "outputs": [
    {
     "data": {
      "text/plain": [
       "0.3413447460685429"
      ]
     },
     "execution_count": 50,
     "metadata": {},
     "output_type": "execute_result"
    }
   ],
   "source": [
    "norm.cdf(10, 8, 2) - norm.cdf(8, 8, 2)"
   ]
  },
  {
   "cell_type": "code",
   "execution_count": 63,
   "id": "6d07a6f9-1579-4f5d-971d-28371f7a23c5",
   "metadata": {},
   "outputs": [
    {
     "data": {
      "text/plain": [
       "array([-0.58197127,  0.3850289 ,  0.12741851,  0.88860909,  0.01589122,\n",
       "        0.83367744, -0.09037585, -0.86118898,  0.16340879,  0.58308088,\n",
       "        1.09274506,  1.39408504, -0.03706498, -0.98939802,  1.48438564,\n",
       "       -1.26705234, -1.67409743,  0.48855514, -1.1291756 ,  0.40264297,\n",
       "       -0.63995779, -0.04486295, -0.68653947,  0.66642266, -1.17718653,\n",
       "        0.60584655, -0.10445737, -0.45415499, -0.63113373,  0.06267554,\n",
       "        1.6322136 , -0.3800147 , -0.02044996,  1.66882558,  0.78670169,\n",
       "       -1.48612437, -1.17066937,  0.59315514,  0.14467663,  1.26523136,\n",
       "        0.95894307,  0.30768939,  1.21004177, -1.34019519,  1.82076305,\n",
       "        0.13671535, -0.72125743, -0.55752932, -0.04111481, -0.18399568,\n",
       "        2.67749085,  0.26298515, -0.11707354,  0.66066004,  1.13695262,\n",
       "        0.35875195, -1.13056384, -0.79412426, -0.31475804, -0.92563015,\n",
       "       -0.12486037, -0.63020204, -0.38606503, -0.32278854, -0.38232048,\n",
       "       -0.1728497 , -0.28800455, -0.06663651,  1.6429001 , -3.13952508,\n",
       "        1.70387357, -1.24472149,  1.77612936, -1.39694167,  1.1195182 ,\n",
       "       -0.873794  , -0.21818448,  0.01039566,  0.05100935, -1.09743874,\n",
       "        1.01601836, -0.71582783,  0.28872765, -0.10390679, -1.70182328,\n",
       "       -0.49322126,  1.246049  ,  1.47612578,  0.71889398,  2.42497889,\n",
       "        0.38242469, -0.35107023,  1.47691794, -0.5621927 ,  0.60903928,\n",
       "        0.31989648,  0.74355891, -1.17146236,  0.20111906, -1.98063642,\n",
       "       -2.54700824, -0.57001339,  1.35235851, -0.76188539, -1.06959786,\n",
       "        2.05128626, -1.32136413, -0.62528193, -0.44399419, -0.13168714,\n",
       "        1.88939193,  0.86419245,  1.48579982, -1.41366731,  1.20265392,\n",
       "       -0.09196512, -0.00570322,  2.03946792, -1.34000367, -0.80916593,\n",
       "        0.05122373, -0.76608187, -0.05236806, -0.02690781, -0.41510284,\n",
       "        0.37136366,  1.64822529,  2.37733509,  0.9985792 , -0.04145599,\n",
       "       -1.84123199,  0.48311185, -1.56821416, -0.56647568,  1.5308345 ,\n",
       "        1.49901276, -2.56868259, -2.01586228,  0.93319899, -0.04354546,\n",
       "       -1.16345927, -0.19237733, -1.29884908, -0.8062236 , -0.03659128,\n",
       "        0.50083704, -0.99080846, -1.45740864,  0.51664419, -0.29166996,\n",
       "        1.90202499, -0.21157267, -2.67955632, -0.65075271,  0.51613742,\n",
       "       -0.94774424, -1.4247292 , -1.40695745, -1.19589832, -0.79252242,\n",
       "        2.17372881,  0.41471749, -0.37640186, -0.19795934, -1.52360173,\n",
       "        0.88556412, -1.16389834, -1.3410064 , -1.50833124,  1.0821954 ,\n",
       "        0.18282891, -0.12269992,  0.35763534, -0.94671759,  2.21292803,\n",
       "       -0.78334731, -0.34406033,  0.62809902, -0.0123693 ,  0.98503723,\n",
       "        0.03710518,  0.22982523,  0.63018988, -2.0163654 , -0.43310509,\n",
       "        0.76179833, -1.02713198, -0.63432697,  1.58390903, -1.73272846,\n",
       "        0.88044571, -0.1077073 , -1.86313433, -0.69588473, -0.40535657,\n",
       "        1.84838641,  0.76475539, -0.22668115, -1.75395145,  1.25804667,\n",
       "        0.26266271, -0.61509866,  0.61448204,  0.54547769,  0.50117072,\n",
       "       -0.11736071,  0.06902975,  0.47578225, -0.27880988, -0.17971618,\n",
       "        0.04229796,  0.32583721, -0.97341124,  1.14310022, -0.30533153,\n",
       "        1.02949696,  0.08428991, -0.72025633,  0.46566771, -0.00837972,\n",
       "       -1.22679335, -0.0134556 , -0.70207593,  0.33892082,  0.93553351,\n",
       "       -0.61256488,  0.12169483, -1.03382325, -0.47264103, -0.46804749,\n",
       "       -0.77877079, -0.21189004, -0.09332559,  1.74312644,  1.31336447,\n",
       "       -0.4949503 , -1.12606446,  0.61059451,  0.4879602 ,  1.06585824,\n",
       "       -0.15929699, -0.13972288, -0.99153991,  0.14558263, -0.95641335,\n",
       "       -1.52045972,  0.78376653,  0.656759  , -1.6348935 , -1.33148039,\n",
       "       -0.67402815, -1.38416435, -2.02013203,  1.20741185, -0.9786577 ,\n",
       "        1.80161249, -1.8007561 , -0.59330146, -0.83106709,  0.38243083,\n",
       "        0.83801347, -0.56810069, -0.29137772, -0.60332454, -0.3205514 ,\n",
       "       -1.14249451, -2.28176922,  1.53879034, -0.33619459,  0.77618116,\n",
       "        2.51618174,  0.81760197,  0.98831089, -1.91124516, -0.8737904 ,\n",
       "        1.79737028,  0.65494004,  1.16610163, -0.104848  ,  1.25605929,\n",
       "        0.60657996, -0.21057784, -2.83677651,  0.07536198, -0.83163018,\n",
       "        0.9382066 ,  0.76101485, -0.37010334,  0.7577275 ,  0.44104118,\n",
       "        0.29376396,  0.36050154, -0.82463784, -0.19969182, -1.03255348,\n",
       "       -0.30276353, -0.6722197 , -1.50983754, -0.78177526, -1.46046823,\n",
       "        1.27578172,  0.43395588,  0.70245383, -1.35851813,  0.51819289,\n",
       "        0.90850733, -0.01426865,  0.51389094, -0.67020697, -2.50134014,\n",
       "       -1.15072957,  0.25698037, -0.75467721,  0.79993329, -1.1969395 ,\n",
       "        0.93757124,  1.56145645, -1.25785649, -1.29396656,  0.90328979,\n",
       "       -1.5052654 , -0.28391254, -1.98851857, -1.03168063, -1.502576  ,\n",
       "        1.82914821,  0.71297093,  0.43854972, -0.52344124, -0.29954418,\n",
       "        0.1917777 ,  0.3392374 ,  1.05339613, -0.5206094 ,  0.21114926,\n",
       "        0.35020986, -0.49152672, -1.16359512,  1.47020214,  0.09498312,\n",
       "       -0.802617  , -1.6964527 ,  1.70482353, -0.59421774, -1.7402537 ,\n",
       "        1.22636462,  0.59422037, -1.47727976, -0.16706691,  1.69378145,\n",
       "       -1.02922655, -0.23171611,  1.82181414,  1.9337268 ,  1.02104703,\n",
       "        0.22860662,  1.11295902,  0.30114435, -0.13917108,  0.7837019 ,\n",
       "        1.32881487, -1.71997026,  0.27503173,  1.3819798 , -0.14000733,\n",
       "       -0.55292449,  0.64467849,  0.83003836, -1.65106245,  1.31261797,\n",
       "       -0.89732085,  2.11601166, -0.77815611,  0.27074321, -1.23298551,\n",
       "       -0.23223611,  1.08060264, -1.06306202,  0.97554224,  0.68745705,\n",
       "        1.02677087,  1.49831009,  0.62072027,  0.10112423,  0.07588812,\n",
       "        0.33647747,  0.84125213,  0.44019583,  1.04642886,  2.85324978,\n",
       "       -1.69886643, -0.54533237,  0.33414749,  2.53300133, -1.26579019,\n",
       "        1.6825598 ,  1.9496047 , -1.01498258,  1.92498056, -1.6407152 ,\n",
       "        0.07407481, -1.18102859, -2.11033076, -0.4471484 , -0.48905493,\n",
       "        0.11713191, -0.77602627, -1.77672282,  0.57234061,  1.83797388,\n",
       "       -0.92890195, -1.53161506,  0.62802193,  1.61781341, -0.05259221,\n",
       "        0.7869479 , -0.18962334,  0.86492831,  0.48265825,  0.24188151,\n",
       "        0.28329514, -1.10607747,  1.08129543, -0.65879905, -0.28040076,\n",
       "        0.42097043, -1.68832008,  1.75294839,  0.24759001, -0.30480314,\n",
       "       -0.95872815, -0.64811099,  0.59115646,  1.69853177,  1.03951506,\n",
       "        0.4313819 ,  0.28987309,  1.20962862,  0.55058569,  0.49218983,\n",
       "        1.10463075, -0.34923924, -0.30941717, -1.91905328, -0.84346036,\n",
       "       -0.08983129, -0.70107485, -0.37736939,  0.6279628 ,  0.99015147,\n",
       "       -0.45099767, -0.53984777,  0.30463861,  1.64953471,  1.34861871,\n",
       "       -0.74466116,  0.39741239,  1.4288656 , -0.4226555 , -0.50271444,\n",
       "        0.17106771, -0.93654899,  1.57588784,  1.65660917, -1.19792577,\n",
       "        0.00505006,  0.31412995, -0.62736292,  1.2643044 ,  1.02355142,\n",
       "       -0.05980358, -1.05316275, -0.90226795, -0.12153754, -0.09168353,\n",
       "       -0.69522026, -1.25057638, -2.11103733, -0.52571925,  0.33102076,\n",
       "       -1.18946131,  0.0735427 , -0.29174095, -0.32435931,  0.08702575,\n",
       "        0.13789759, -0.28769704,  0.6129574 ,  3.07392782, -0.25353445,\n",
       "       -0.64020961,  0.05587598, -0.06056606,  0.90402753, -1.78843646,\n",
       "       -1.3519276 ,  0.13153104,  0.57178351,  0.94869509, -0.65831949,\n",
       "        1.35363446,  0.85249482,  0.96651855, -0.13630311,  1.49240921,\n",
       "        0.11049291, -1.27054348, -1.32499564, -0.53419804, -0.45061732,\n",
       "       -0.99320079, -0.37405655, -0.35926487, -0.7964459 , -1.15590007,\n",
       "        2.107576  ,  0.00989894,  0.73315502, -0.90277886,  1.25216193,\n",
       "        0.64610001,  0.02111413, -1.45254421, -0.67545012, -1.99710044,\n",
       "       -0.20125068,  0.88509464, -0.08779206,  0.15460601,  0.64284172,\n",
       "       -0.12954634,  0.04552317, -0.62228458, -0.15604948,  0.279512  ,\n",
       "       -0.80674727,  1.01069465,  0.13661152,  0.62032059, -1.23590369,\n",
       "        0.35225025,  2.24788701,  0.18410321, -1.86551389,  0.24265493,\n",
       "        2.45852158, -1.61284179, -0.13836739, -2.02868704, -1.74541811,\n",
       "       -0.77531309,  1.25645355, -1.57475066, -0.71671551, -0.4623676 ,\n",
       "        0.88713032, -0.63798178, -0.38982323,  1.03201023,  1.43783879,\n",
       "        0.23565289, -0.22753275, -1.05190417, -1.08644144, -1.08457446,\n",
       "       -2.094705  ,  2.06772595, -0.40707782,  1.26041363, -0.92885218,\n",
       "        1.14274726, -1.28992553,  0.902848  , -0.58603791, -2.01966379,\n",
       "        1.77551495, -0.53718952,  1.16898037, -1.77923092,  0.53772593,\n",
       "       -0.68118748, -0.47651019,  1.01030055,  0.22055341,  1.30083743,\n",
       "        0.14840415,  0.57727564, -1.0900874 , -1.45948237, -0.18893171,\n",
       "       -0.79351629,  1.26986209,  1.01382762, -0.61494377, -0.80098041,\n",
       "       -1.06330252, -1.04831559, -1.31027877, -0.06924578, -0.98259879,\n",
       "       -0.86892678, -0.27688981, -1.56401224,  0.38829519,  0.16144872,\n",
       "        1.28414388,  0.98793963, -0.20770094,  0.69942602,  0.08737085,\n",
       "       -0.82206859,  0.14649134,  0.36374524, -0.58297491,  0.09108756,\n",
       "       -0.70472672,  0.80418266, -1.63968636, -0.30294584,  0.16590161,\n",
       "       -0.89388826, -0.1562284 ,  1.22965354,  1.16270118,  0.51885249,\n",
       "        0.78417035, -0.61639235, -0.94812029,  0.94931197,  0.34193305,\n",
       "        0.00677168, -0.84074316,  1.96280335,  0.22184896, -1.42705035,\n",
       "        0.64505878, -1.31851802, -0.5037042 ,  0.49386094, -0.55379588,\n",
       "        1.54061873, -1.4199296 ,  1.37191249, -1.0743929 , -0.88229286,\n",
       "       -1.7940857 ,  0.42127394, -0.75510177,  0.18181783,  0.52682759,\n",
       "        0.88499919, -1.64538408, -2.38229656, -1.52056079,  0.02171752,\n",
       "       -0.30198106, -0.22300405,  1.21869292, -0.43518636,  0.49496917,\n",
       "       -1.37945553,  1.24336625,  0.90003063,  1.05620317,  0.88540059,\n",
       "       -0.40886701, -0.95323475,  1.48237496, -0.24119529,  0.43362299,\n",
       "        1.20616666, -0.86321871, -0.30291404,  0.62699214,  1.0292162 ,\n",
       "        1.15903652,  1.10001532,  0.48337305,  0.42897327,  0.54918305,\n",
       "       -0.02780545, -0.06856448,  0.46882219,  1.1047201 , -0.75066115,\n",
       "       -0.80543557,  0.78556729, -0.32737991,  0.70952125,  1.20121388,\n",
       "        1.13935873, -0.18324222,  0.40151108, -0.59930551, -0.8109319 ,\n",
       "       -1.02614137,  0.7854018 , -0.22016628, -3.10934593,  0.8057638 ,\n",
       "       -1.09742246, -1.85449554,  0.49461784,  0.02266282,  0.45292586,\n",
       "       -0.71514817, -0.04942842, -1.69051036,  0.13671993, -1.2634945 ,\n",
       "       -0.12068175,  0.49871448, -0.96841041, -3.12388227,  1.33046276,\n",
       "        0.4030916 ,  0.73993993,  0.62924728, -0.34636219,  0.04709191,\n",
       "        1.54227785, -0.77546686, -0.04822108,  2.81032577, -0.62124106,\n",
       "        0.43340748, -0.75462139,  0.84468891,  0.94493202, -0.76850392,\n",
       "        0.38035482, -0.65023772,  2.14413719,  1.25557249, -2.00860969,\n",
       "        0.21956746,  1.32164009,  0.60791701, -0.71753989,  0.85677667,\n",
       "       -0.24268945, -0.71906624,  1.44093169, -0.41208603,  1.478496  ,\n",
       "        0.20168889,  0.119053  , -0.62647916, -0.53185098, -0.02616846,\n",
       "       -0.10349902,  1.00216573, -1.01546752, -0.89717092, -1.32331511,\n",
       "       -0.03498522, -0.28268904,  1.13400855,  0.54283997,  0.30518706,\n",
       "       -0.58679702,  0.07132197,  0.87874016,  0.44522396, -0.68737836,\n",
       "        0.58988724, -1.69202734,  0.08539362, -0.44244735,  0.38710533,\n",
       "       -0.64514203,  1.34614881,  0.51599115,  0.83311801, -0.13623086,\n",
       "       -0.97311416, -0.22795562,  0.5778983 ,  0.00814875, -1.55797989,\n",
       "        0.00813804, -1.97080141, -1.27315253,  1.08435187, -0.70452824,\n",
       "        1.75149274, -0.7662083 ,  0.36465112, -0.11320681, -0.71776869,\n",
       "        0.59065734, -0.82586398,  1.39027457, -0.51920585, -0.55784358,\n",
       "        0.65033718,  1.35872915, -0.80497542, -1.25568971, -0.06443343,\n",
       "        0.90960453, -1.2517956 , -1.85560753, -0.24538306,  0.7140211 ,\n",
       "       -0.1455396 , -0.78903263, -0.18484561, -2.31816174,  1.12962522,\n",
       "        0.63220103, -0.22745238,  1.79437546, -1.41373667, -0.16308453,\n",
       "        0.04142872,  1.20418671,  0.12132851, -1.52351058, -1.19261671,\n",
       "       -0.82619018, -0.83235267,  1.56162915, -0.4145674 ,  0.31465137,\n",
       "        0.28816974, -1.83326043,  1.62482291,  0.12568388, -0.35966666,\n",
       "       -0.13582267, -1.68084882, -1.29318306,  0.60145436, -0.02637929,\n",
       "        0.08520647, -1.28964952, -0.39518772,  0.02657201,  0.84989741,\n",
       "       -0.06258718, -0.77512118, -0.2440516 , -0.43124043, -0.22631143,\n",
       "        0.68291745, -0.48587465, -0.12855428,  1.00282437, -0.28539761,\n",
       "        0.92417719,  0.95467508,  0.81027523, -1.05105008, -0.66172129,\n",
       "        0.28417676,  1.53755845,  1.29821413, -0.27606766, -0.40708658,\n",
       "        0.92774488,  1.05675112, -0.40988205, -0.88007966,  0.1131979 ,\n",
       "       -1.53878138,  2.6953494 , -1.25509221,  1.15719254, -0.22051558,\n",
       "       -0.71787154, -0.13431981, -0.87255796,  1.74147076,  1.99496293,\n",
       "       -1.14653768,  0.43781748, -1.34279657, -1.33471013,  0.44534959,\n",
       "        1.74531666, -0.69087892, -1.34895811, -0.61607813,  0.15738444,\n",
       "       -1.6446628 ,  1.78931704,  2.05033093,  0.43823157,  1.47087211,\n",
       "        0.77473063,  1.17454335, -0.50026729, -1.14327201, -0.09597212,\n",
       "       -0.64201318, -1.22804543,  0.94880611,  2.13823235,  0.17501249,\n",
       "       -0.13360274, -0.00598041,  1.10663131, -0.75363061,  1.17651128,\n",
       "       -1.17511839,  1.40789924,  0.476804  , -2.34162989,  2.39699487,\n",
       "       -1.53942273, -1.14018647, -0.82721447, -0.42524722,  1.83418439,\n",
       "       -0.67973705,  0.12113504,  1.68658193,  0.54933673,  0.76377124,\n",
       "       -0.46929218,  0.86214623, -0.95037739, -0.1524007 ,  0.17709894,\n",
       "        1.28751031, -0.12184869,  2.05835599, -0.90888838,  1.40178232,\n",
       "       -0.12054564, -1.16003259,  0.02586095,  0.72917587,  0.79395331,\n",
       "       -0.34505909,  0.22908409, -0.01768503,  0.07971139, -0.8159253 ,\n",
       "       -0.38281353, -0.60919781, -0.29309332,  0.19446445,  0.88628616,\n",
       "        2.8848756 , -1.97972471, -0.36810129, -2.50593577, -0.82087822,\n",
       "        0.54586732,  0.93158001, -1.36975129, -0.22457791, -0.21488788,\n",
       "        0.3276815 ,  1.90794313,  2.4236232 ,  0.97224071, -1.31517621,\n",
       "       -0.08631303,  0.47648552,  0.50500834,  0.13449679,  0.09598305,\n",
       "       -1.14699498, -1.13103774,  0.20353496,  0.0228885 ,  1.21473644,\n",
       "        0.11552696,  2.00145621,  1.17730377,  0.48530386,  0.55270955,\n",
       "       -0.41773818,  0.77857589, -1.89936551,  1.59498348, -0.46189662,\n",
       "       -0.46144339, -0.52178262,  0.98227558,  1.73644792,  3.76156761,\n",
       "        1.19309905,  1.51321501,  0.69306164, -1.24031217, -0.45422137,\n",
       "       -0.01161629, -0.33669487,  0.26973254, -0.21764895, -1.72737277,\n",
       "        0.03419867, -0.32256995,  0.39328949, -0.83894455,  0.27940922])"
      ]
     },
     "execution_count": 63,
     "metadata": {},
     "output_type": "execute_result"
    }
   ],
   "source": [
    "dados = norm.rvs(size = 1000)\n",
    "dados"
   ]
  },
  {
   "cell_type": "code",
   "execution_count": 64,
   "id": "aa9d52a9-40f4-4a6f-b3ff-910f24e76511",
   "metadata": {},
   "outputs": [
    {
     "data": {
      "text/plain": [
       "Text(0.5, 1.0, 'Dados')"
      ]
     },
     "execution_count": 64,
     "metadata": {},
     "output_type": "execute_result"
    },
    {
     "data": {
      "image/png": "[encoded data removed]",
      "text/plain": [
       "<Figure size 640x480 with 1 Axes>"
      ]
     },
     "metadata": {},
     "output_type": "display_data"
    }
   ],
   "source": [
    "plt.hist(dados, bins = 20)\n",
    "plt.title('Dados')"
   ]
  },
  {
   "cell_type": "code",
   "execution_count": 65,
   "id": "96480ccd-f083-47cf-8e43-66ec339f02e3",
   "metadata": {},
   "outputs": [
    {
     "data": {
      "image/png": "[encoded data removed]",
      "text/plain": [
       "<Figure size 640x480 with 1 Axes>"
      ]
     },
     "metadata": {},
     "output_type": "display_data"
    }
   ],
   "source": [
    "fig, ax = plt.subplots()\n",
    "stats.probplot(dados, fit=True, plot=ax)\n",
    "plt.show()"
   ]
  },
  {
   "cell_type": "code",
   "execution_count": 66,
   "id": "3afe20d0-1a87-4957-a77c-9f4884a0ebf6",
   "metadata": {},
   "outputs": [
    {
     "data": {
      "text/plain": [
       "ShapiroResult(statistic=0.9984517693519592, pvalue=0.5235135555267334)"
      ]
     },
     "execution_count": 66,
     "metadata": {},
     "output_type": "execute_result"
    }
   ],
   "source": [
    "stats.shapiro(dados)"
   ]
  },
  {
   "cell_type": "code",
   "execution_count": null,
   "id": "9bd324cf-1fc6-4dc3-bd61-149d81cc56ec",
   "metadata": {},
   "outputs": [],
   "source": [
    "Dados não normais"
   ]
  },
  {
   "cell_type": "code",
   "execution_count": 59,
   "id": "37ffa3d4-6cf1-48b6-8178-c06b11ce750b",
   "metadata": {},
   "outputs": [],
   "source": [
    "dados2 = skewnorm.rvs(4, size=1000)"
   ]
  },
  {
   "cell_type": "code",
   "execution_count": 60,
   "id": "d00470b7-6d58-48c3-a63d-2ccbacf1d78c",
   "metadata": {},
   "outputs": [
    {
     "data": {
      "text/plain": [
       "Text(0.5, 1.0, 'Dados')"
      ]
     },
     "execution_count": 60,
     "metadata": {},
     "output_type": "execute_result"
    },
    {
     "data": {
      "image/png": "[encoded data removed]",
      "text/plain": [
       "<Figure size 640x480 with 1 Axes>"
      ]
     },
     "metadata": {},
     "output_type": "display_data"
    }
   ],
   "source": [
    "plt.hist(dados2, bins =20)\n",
    "plt.title('Dados')"
   ]
  },
  {
   "cell_type": "code",
   "execution_count": 61,
   "id": "0d6366f4-f79a-49fa-877b-f5da32e6a9a3",
   "metadata": {},
   "outputs": [
    {
     "data": {
      "image/png": "[encoded data removed]",
      "text/plain": [
       "<Figure size 640x480 with 1 Axes>"
      ]
     },
     "metadata": {},
     "output_type": "display_data"
    }
   ],
   "source": [
    "fig, ax = plt.subplots()\n",
    "stats.probplot(dados2, fit=True, plot=ax)\n",
    "plt.show()"
   ]
  },
  {
   "cell_type": "code",
   "execution_count": 62,
   "id": "5fd0eaac-e928-4f6f-97d3-1c702b352874",
   "metadata": {},
   "outputs": [
    {
     "data": {
      "text/plain": [
       "ShapiroResult(statistic=0.972676157951355, pvalue=8.951489180973604e-13)"
      ]
     },
     "execution_count": 62,
     "metadata": {},
     "output_type": "execute_result"
    }
   ],
   "source": [
    "stats.shapiro(dados2)"
   ]
  },
  {
   "cell_type": "code",
   "execution_count": null,
   "id": "820a5a54-02c1-4781-b384-dc6cef1a467b",
   "metadata": {},
   "outputs": [],
   "source": []
  }
 ],
 "metadata": {
  "kernelspec": {
   "display_name": "Python 3 (ipykernel)",
   "language": "python",
   "name": "python3"
  },
  "language_info": {
   "codemirror_mode": {
    "name": "ipython",
    "version": 3
   },
   "file_extension": ".py",
   "mimetype": "text/x-python",
   "name": "python",
   "nbconvert_exporter": "python",
   "pygments_lexer": "ipython3",
   "version": "3.11.7"
  }
 },
 "nbformat": 4,
 "nbformat_minor": 5
}
