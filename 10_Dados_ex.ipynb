{
 "cells": [
  {
   "cell_type": "code",
   "execution_count": 1,
   "id": "e9079497-b0eb-4dec-a751-02924f798c9f",
   "metadata": {},
   "outputs": [],
   "source": [
    "import pandas as pd\n",
    "import seaborn as srn\n",
    "import statistics as sts"
   ]
  },
  {
   "cell_type": "code",
   "execution_count": 2,
   "id": "0c20b070-acb2-48d4-abc3-e1f9f469c8c5",
   "metadata": {},
   "outputs": [
    {
     "data": {
      "text/html": [
       "<div>\n",
       "<style scoped>\n",
       "    .dataframe tbody tr th:only-of-type {\n",
       "        vertical-align: middle;\n",
       "    }\n",
       "\n",
       "    .dataframe tbody tr th {\n",
       "        vertical-align: top;\n",
       "    }\n",
       "\n",
       "    .dataframe thead th {\n",
       "        text-align: right;\n",
       "    }\n",
       "</style>\n",
       "<table border=\"1\" class=\"dataframe\">\n",
       "  <thead>\n",
       "    <tr style=\"text-align: right;\">\n",
       "      <th></th>\n",
       "      <th>Aparencia</th>\n",
       "      <th>Temperatura</th>\n",
       "      <th>Umidade</th>\n",
       "      <th>Vento</th>\n",
       "      <th>Jogar</th>\n",
       "    </tr>\n",
       "  </thead>\n",
       "  <tbody>\n",
       "    <tr>\n",
       "      <th>0</th>\n",
       "      <td>sol</td>\n",
       "      <td>85</td>\n",
       "      <td>85.0</td>\n",
       "      <td>FALSO</td>\n",
       "      <td>nao</td>\n",
       "    </tr>\n",
       "    <tr>\n",
       "      <th>1</th>\n",
       "      <td>sol</td>\n",
       "      <td>80</td>\n",
       "      <td>90.0</td>\n",
       "      <td>VERDADEIRO</td>\n",
       "      <td>nao</td>\n",
       "    </tr>\n",
       "    <tr>\n",
       "      <th>2</th>\n",
       "      <td>nublado</td>\n",
       "      <td>83</td>\n",
       "      <td>86.0</td>\n",
       "      <td>FALSO</td>\n",
       "      <td>sim</td>\n",
       "    </tr>\n",
       "    <tr>\n",
       "      <th>3</th>\n",
       "      <td>chuva</td>\n",
       "      <td>70</td>\n",
       "      <td>NaN</td>\n",
       "      <td>FALSO</td>\n",
       "      <td>sim</td>\n",
       "    </tr>\n",
       "    <tr>\n",
       "      <th>4</th>\n",
       "      <td>chuva</td>\n",
       "      <td>68</td>\n",
       "      <td>80.0</td>\n",
       "      <td>FALSO</td>\n",
       "      <td>sim</td>\n",
       "    </tr>\n",
       "  </tbody>\n",
       "</table>\n",
       "</div>"
      ],
      "text/plain": [
       "  Aparencia  Temperatura  Umidade       Vento Jogar\n",
       "0       sol           85     85.0       FALSO   nao\n",
       "1       sol           80     90.0  VERDADEIRO   nao\n",
       "2   nublado           83     86.0       FALSO   sim\n",
       "3     chuva           70      NaN       FALSO   sim\n",
       "4     chuva           68     80.0       FALSO   sim"
      ]
     },
     "execution_count": 2,
     "metadata": {},
     "output_type": "execute_result"
    }
   ],
   "source": [
    "dataset = pd.read_csv(\"tempo.csv\", sep=\";\")\n",
    "dataset.head()"
   ]
  },
  {
   "cell_type": "code",
   "execution_count": 3,
   "id": "c9d3d720-1f25-48d0-91bf-91220fe42cd7",
   "metadata": {},
   "outputs": [
    {
     "data": {
      "text/plain": [
       "(14, 5)"
      ]
     },
     "execution_count": 3,
     "metadata": {},
     "output_type": "execute_result"
    }
   ],
   "source": [
    "dataset.shape"
   ]
  },
  {
   "cell_type": "code",
   "execution_count": 5,
   "id": "08458e64-0117-4268-84c8-2486a5bde3b7",
   "metadata": {},
   "outputs": [
    {
     "data": {
      "text/plain": [
       "Aparencia\n",
       "chuva      5\n",
       "menos      1\n",
       "nublado    3\n",
       "sol        5\n",
       "dtype: int64"
      ]
     },
     "execution_count": 5,
     "metadata": {},
     "output_type": "execute_result"
    }
   ],
   "source": [
    "aparencia = dataset.groupby(['Aparencia']).size()\n",
    "aparencia"
   ]
  },
  {
   "cell_type": "code",
   "execution_count": 6,
   "id": "3c3285bb-893a-40f3-bd6e-ff0cfe3db221",
   "metadata": {},
   "outputs": [
    {
     "data": {
      "text/plain": [
       "Aparencia\n",
       "chuva      6\n",
       "nublado    3\n",
       "sol        5\n",
       "dtype: int64"
      ]
     },
     "execution_count": 6,
     "metadata": {},
     "output_type": "execute_result"
    }
   ],
   "source": [
    "dataset.loc[dataset['Aparencia'].isin(['menos']), 'Aparencia'] = \"chuva\"\n",
    "aparencia = dataset.groupby(['Aparencia']).size()\n",
    "aparencia"
   ]
  },
  {
   "cell_type": "code",
   "execution_count": 8,
   "id": "5eda0b9b-4aca-4dd8-b781-b641b1961124",
   "metadata": {},
   "outputs": [
    {
     "data": {
      "text/plain": [
       "Temperatura\n",
       "64      1\n",
       "65      1\n",
       "68      1\n",
       "69      1\n",
       "70      1\n",
       "71      1\n",
       "72      1\n",
       "75      2\n",
       "80      1\n",
       "81      1\n",
       "83      1\n",
       "85      1\n",
       "1220    1\n",
       "dtype: int64"
      ]
     },
     "execution_count": 8,
     "metadata": {},
     "output_type": "execute_result"
    }
   ],
   "source": [
    "temperatura = dataset.groupby(['Temperatura']).size()\n",
    "temperatura"
   ]
  },
  {
   "cell_type": "code",
   "execution_count": 10,
   "id": "49d1b154-d2b2-4a4b-9197-18f002d4b33f",
   "metadata": {},
   "outputs": [
    {
     "data": {
      "text/plain": [
       "count      14.000000\n",
       "mean      155.571429\n",
       "std       306.433759\n",
       "min        64.000000\n",
       "25%        69.250000\n",
       "50%        73.500000\n",
       "75%        80.750000\n",
       "max      1220.000000\n",
       "Name: Temperatura, dtype: float64"
      ]
     },
     "execution_count": 10,
     "metadata": {},
     "output_type": "execute_result"
    }
   ],
   "source": [
    "dataset['Temperatura'].describe()"
   ]
  },
  {
   "cell_type": "code",
   "execution_count": 14,
   "id": "5c61fe36-bfc8-4345-bbee-43e781595860",
   "metadata": {},
   "outputs": [
    {
     "data": {
      "text/plain": [
       "count    14.000000\n",
       "mean     73.678571\n",
       "std       6.556286\n",
       "min      64.000000\n",
       "25%      69.250000\n",
       "50%      72.750000\n",
       "75%      78.750000\n",
       "max      85.000000\n",
       "Name: Temperatura, dtype: float64"
      ]
     },
     "execution_count": 14,
     "metadata": {},
     "output_type": "execute_result"
    }
   ],
   "source": [
    "mediana = sts.median(dataset['Temperatura'])\n",
    "dataset.loc[dataset['Temperatura'] > 130, 'Temperatura'] = mediana\n",
    "dataset['Temperatura'].describe()"
   ]
  },
  {
   "cell_type": "code",
   "execution_count": 15,
   "id": "dfc7135a-bed9-47dc-aa66-17065e11ced3",
   "metadata": {},
   "outputs": [
    {
     "data": {
      "text/plain": [
       "count     13.000000\n",
       "mean      89.769231\n",
       "std       34.540203\n",
       "min       65.000000\n",
       "25%       70.000000\n",
       "50%       85.000000\n",
       "75%       90.000000\n",
       "max      200.000000\n",
       "Name: Umidade, dtype: float64"
      ]
     },
     "execution_count": 15,
     "metadata": {},
     "output_type": "execute_result"
    }
   ],
   "source": [
    "dataset['Umidade'].describe()"
   ]
  },
  {
   "cell_type": "code",
   "execution_count": 18,
   "id": "d0410d7b-6303-4a48-921a-a4f2a0a3437e",
   "metadata": {},
   "outputs": [
    {
     "data": {
      "text/plain": [
       "count    13.000000\n",
       "mean     80.038462\n",
       "std       9.996794\n",
       "min      65.000000\n",
       "25%      70.000000\n",
       "50%      80.000000\n",
       "75%      90.000000\n",
       "max      95.000000\n",
       "Name: Umidade, dtype: float64"
      ]
     },
     "execution_count": 18,
     "metadata": {},
     "output_type": "execute_result"
    }
   ],
   "source": [
    "medaina = sts.median(dataset['Umidade'])\n",
    "dataset.loc[dataset['Umidade'] > 100, 'Umidade'] = mediana\n",
    "dataset['Umidade'].describe()"
   ]
  },
  {
   "cell_type": "code",
   "execution_count": 19,
   "id": "cd0edd75-6f51-4e70-a589-3c5c3fe0e4fb",
   "metadata": {},
   "outputs": [
    {
     "data": {
      "text/plain": [
       "Temperatura\n",
       "64.0    1\n",
       "65.0    1\n",
       "68.0    1\n",
       "69.0    1\n",
       "70.0    1\n",
       "71.0    1\n",
       "72.0    1\n",
       "73.5    1\n",
       "75.0    2\n",
       "80.0    1\n",
       "81.0    1\n",
       "83.0    1\n",
       "85.0    1\n",
       "dtype: int64"
      ]
     },
     "execution_count": 19,
     "metadata": {},
     "output_type": "execute_result"
    }
   ],
   "source": [
    "temperatura = dataset.groupby(['Temperatura']).size()\n",
    "temperatura"
   ]
  },
  {
   "cell_type": "code",
   "execution_count": 20,
   "id": "9548e50f-e70e-4bc2-aea4-9714425caaa5",
   "metadata": {},
   "outputs": [
    {
     "data": {
      "text/plain": [
       "Umidade\n",
       "65.0    1\n",
       "70.0    3\n",
       "73.5    1\n",
       "75.0    1\n",
       "80.0    1\n",
       "85.0    1\n",
       "86.0    1\n",
       "90.0    2\n",
       "91.0    1\n",
       "95.0    1\n",
       "dtype: int64"
      ]
     },
     "execution_count": 20,
     "metadata": {},
     "output_type": "execute_result"
    }
   ],
   "source": [
    "umidade = dataset.groupby(['Umidade']).size()\n",
    "umidade"
   ]
  },
  {
   "cell_type": "code",
   "execution_count": 21,
   "id": "073d46ba-5c7a-4715-bc41-0ca55cdfd184",
   "metadata": {},
   "outputs": [
    {
     "data": {
      "text/plain": [
       "count      14\n",
       "unique      2\n",
       "top       sim\n",
       "freq        9\n",
       "Name: Jogar, dtype: object"
      ]
     },
     "execution_count": 21,
     "metadata": {},
     "output_type": "execute_result"
    }
   ],
   "source": [
    "dataset['Jogar'].describe()"
   ]
  },
  {
   "cell_type": "code",
   "execution_count": 22,
   "id": "4c5636da-5a52-44f1-8c14-612496dbbaf2",
   "metadata": {},
   "outputs": [
    {
     "data": {
      "text/plain": [
       "Jogar\n",
       "nao    5\n",
       "sim    9\n",
       "dtype: int64"
      ]
     },
     "execution_count": 22,
     "metadata": {},
     "output_type": "execute_result"
    }
   ],
   "source": [
    "jogar = dataset.groupby(['Jogar']).size()\n",
    "jogar"
   ]
  },
  {
   "cell_type": "code",
   "execution_count": 23,
   "id": "6401a268-5df2-4eab-972a-083694ed8993",
   "metadata": {},
   "outputs": [
    {
     "data": {
      "text/plain": [
       "(14, 5)"
      ]
     },
     "execution_count": 23,
     "metadata": {},
     "output_type": "execute_result"
    }
   ],
   "source": [
    "dataset.shape"
   ]
  },
  {
   "cell_type": "code",
   "execution_count": 24,
   "id": "e6d0aa40-1709-4d07-864a-19a92606d9c2",
   "metadata": {},
   "outputs": [
    {
     "data": {
      "text/html": [
       "<div>\n",
       "<style scoped>\n",
       "    .dataframe tbody tr th:only-of-type {\n",
       "        vertical-align: middle;\n",
       "    }\n",
       "\n",
       "    .dataframe tbody tr th {\n",
       "        vertical-align: top;\n",
       "    }\n",
       "\n",
       "    .dataframe thead th {\n",
       "        text-align: right;\n",
       "    }\n",
       "</style>\n",
       "<table border=\"1\" class=\"dataframe\">\n",
       "  <thead>\n",
       "    <tr style=\"text-align: right;\">\n",
       "      <th></th>\n",
       "      <th>Aparencia</th>\n",
       "      <th>Temperatura</th>\n",
       "      <th>Umidade</th>\n",
       "      <th>Vento</th>\n",
       "      <th>Jogar</th>\n",
       "    </tr>\n",
       "  </thead>\n",
       "  <tbody>\n",
       "    <tr>\n",
       "      <th>0</th>\n",
       "      <td>sol</td>\n",
       "      <td>85.0</td>\n",
       "      <td>85.0</td>\n",
       "      <td>FALSO</td>\n",
       "      <td>nao</td>\n",
       "    </tr>\n",
       "    <tr>\n",
       "      <th>1</th>\n",
       "      <td>sol</td>\n",
       "      <td>80.0</td>\n",
       "      <td>90.0</td>\n",
       "      <td>VERDADEIRO</td>\n",
       "      <td>nao</td>\n",
       "    </tr>\n",
       "    <tr>\n",
       "      <th>2</th>\n",
       "      <td>nublado</td>\n",
       "      <td>83.0</td>\n",
       "      <td>86.0</td>\n",
       "      <td>FALSO</td>\n",
       "      <td>sim</td>\n",
       "    </tr>\n",
       "    <tr>\n",
       "      <th>3</th>\n",
       "      <td>chuva</td>\n",
       "      <td>70.0</td>\n",
       "      <td>NaN</td>\n",
       "      <td>FALSO</td>\n",
       "      <td>sim</td>\n",
       "    </tr>\n",
       "    <tr>\n",
       "      <th>4</th>\n",
       "      <td>chuva</td>\n",
       "      <td>68.0</td>\n",
       "      <td>80.0</td>\n",
       "      <td>FALSO</td>\n",
       "      <td>sim</td>\n",
       "    </tr>\n",
       "  </tbody>\n",
       "</table>\n",
       "</div>"
      ],
      "text/plain": [
       "  Aparencia  Temperatura  Umidade       Vento Jogar\n",
       "0       sol         85.0     85.0       FALSO   nao\n",
       "1       sol         80.0     90.0  VERDADEIRO   nao\n",
       "2   nublado         83.0     86.0       FALSO   sim\n",
       "3     chuva         70.0      NaN       FALSO   sim\n",
       "4     chuva         68.0     80.0       FALSO   sim"
      ]
     },
     "execution_count": 24,
     "metadata": {},
     "output_type": "execute_result"
    }
   ],
   "source": [
    "dataset.head()"
   ]
  },
  {
   "cell_type": "code",
   "execution_count": 25,
   "id": "8007488b-590e-4b70-9cfc-b41d02545706",
   "metadata": {},
   "outputs": [
    {
     "data": {
      "text/plain": [
       "0"
      ]
     },
     "execution_count": 25,
     "metadata": {},
     "output_type": "execute_result"
    }
   ],
   "source": [
    "dataset['Aparencia'].isnull().sum()"
   ]
  },
  {
   "cell_type": "code",
   "execution_count": 27,
   "id": "fe7d3769-e18c-4d0a-90db-a3d5b33f41a2",
   "metadata": {},
   "outputs": [
    {
     "data": {
      "text/plain": [
       "0"
      ]
     },
     "execution_count": 27,
     "metadata": {},
     "output_type": "execute_result"
    }
   ],
   "source": [
    "dataset['Temperatura'].isnull().sum()"
   ]
  },
  {
   "cell_type": "code",
   "execution_count": 28,
   "id": "518204c8-dc16-457b-9e5a-c847044d72cf",
   "metadata": {},
   "outputs": [
    {
     "data": {
      "text/plain": [
       "1"
      ]
     },
     "execution_count": 28,
     "metadata": {},
     "output_type": "execute_result"
    }
   ],
   "source": [
    "dataset['Umidade'].isnull().sum()"
   ]
  },
  {
   "cell_type": "code",
   "execution_count": 29,
   "id": "3961b66f-1c54-427c-be17-23aebf8b4f16",
   "metadata": {},
   "outputs": [
    {
     "data": {
      "text/plain": [
       "1"
      ]
     },
     "execution_count": 29,
     "metadata": {},
     "output_type": "execute_result"
    }
   ],
   "source": [
    "dataset['Vento'].isnull().sum()"
   ]
  },
  {
   "cell_type": "code",
   "execution_count": 30,
   "id": "9140efe1-a7d4-40e1-88d1-00b2ef8d2ecd",
   "metadata": {},
   "outputs": [
    {
     "data": {
      "text/plain": [
       "0"
      ]
     },
     "execution_count": 30,
     "metadata": {},
     "output_type": "execute_result"
    }
   ],
   "source": [
    "dataset['Jogar'].isnull().sum()"
   ]
  },
  {
   "cell_type": "code",
   "execution_count": 31,
   "id": "e0f7f546-cddf-436f-af39-7a5c328fde9a",
   "metadata": {},
   "outputs": [],
   "source": [
    "mediana = sts.median(dataset['Umidade'])\n",
    "mediana\n",
    "dataset['Umidade'].fillna(mediana, inplace=True)"
   ]
  },
  {
   "cell_type": "code",
   "execution_count": 32,
   "id": "f1a4859e-87ed-403f-9da7-a6fb77095774",
   "metadata": {},
   "outputs": [
    {
     "data": {
      "text/plain": [
       "0"
      ]
     },
     "execution_count": 32,
     "metadata": {},
     "output_type": "execute_result"
    }
   ],
   "source": [
    "dataset['Umidade'].isnull().sum()"
   ]
  },
  {
   "cell_type": "code",
   "execution_count": 33,
   "id": "7957a37a-2583-4b77-a02a-b72ffac7cf8f",
   "metadata": {},
   "outputs": [
    {
     "data": {
      "text/plain": [
       "Vento\n",
       "FALSO         7\n",
       "VERDADEIRO    6\n",
       "dtype: int64"
      ]
     },
     "execution_count": 33,
     "metadata": {},
     "output_type": "execute_result"
    }
   ],
   "source": [
    "vento = dataset.groupby(['Vento']).size()\n",
    "vento"
   ]
  },
  {
   "cell_type": "code",
   "execution_count": 34,
   "id": "c969c96e-10ab-41ef-85be-e5d521198ffe",
   "metadata": {},
   "outputs": [
    {
     "data": {
      "text/plain": [
       "0"
      ]
     },
     "execution_count": 34,
     "metadata": {},
     "output_type": "execute_result"
    }
   ],
   "source": [
    "dataset['Vento'].fillna(\"FALSO\", inplace=True)\n",
    "dataset['Vento'].isnull().sum()"
   ]
  },
  {
   "cell_type": "code",
   "execution_count": 37,
   "id": "7d55b3db-8d3c-44f9-bdb1-86e962e4b977",
   "metadata": {},
   "outputs": [
    {
     "data": {
      "text/plain": [
       "<bound method NDFrame.head of    Aparencia  Temperatura  Umidade       Vento Jogar\n",
       "0        sol         85.0     85.0       FALSO   nao\n",
       "1        sol         80.0     90.0  VERDADEIRO   nao\n",
       "2    nublado         83.0     86.0       FALSO   sim\n",
       "3      chuva         70.0     82.5       FALSO   sim\n",
       "4      chuva         68.0     80.0       FALSO   sim\n",
       "5      chuva         65.0     70.0  VERDADEIRO   nao\n",
       "6      chuva         64.0     65.0  VERDADEIRO   sim\n",
       "7        sol         73.5     95.0       FALSO   nao\n",
       "8        sol         69.0     70.0       FALSO   sim\n",
       "9      chuva         75.0     73.5       FALSO   sim\n",
       "10       sol         75.0     70.0  VERDADEIRO   sim\n",
       "11   nublado         72.0     90.0  VERDADEIRO   sim\n",
       "12   nublado         81.0     75.0       FALSO   sim\n",
       "13     chuva         71.0     91.0  VERDADEIRO   nao>"
      ]
     },
     "execution_count": 37,
     "metadata": {},
     "output_type": "execute_result"
    }
   ],
   "source": [
    "dataset.head"
   ]
  },
  {
   "cell_type": "code",
   "execution_count": null,
   "id": "d2284d7b-5f7c-4163-8286-a6760eaf535b",
   "metadata": {},
   "outputs": [],
   "source": []
  }
 ],
 "metadata": {
  "kernelspec": {
   "display_name": "Python 3 (ipykernel)",
   "language": "python",
   "name": "python3"
  },
  "language_info": {
   "codemirror_mode": {
    "name": "ipython",
    "version": 3
   },
   "file_extension": ".py",
   "mimetype": "text/x-python",
   "name": "python",
   "nbconvert_exporter": "python",
   "pygments_lexer": "ipython3",
   "version": "3.11.7"
  }
 },
 "nbformat": 4,
 "nbformat_minor": 5
}
